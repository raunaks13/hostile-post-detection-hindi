{
 "cells": [
  {
   "cell_type": "code",
   "execution_count": 2,
   "metadata": {},
   "outputs": [],
   "source": [
    "import pandas as pd\n",
    "import numpy as np\n",
    "import torch\n",
    "import torch.nn as nn\n",
    "from transformers import AutoTokenizer, AutoModel, AutoConfig\n",
    "from transformers import AutoModelForSequenceClassification\n",
    "from tqdm.notebook import tqdm\n",
    "from sklearn.metrics import f1_score, precision_recall_fscore_support\n",
    "\n",
    "tokenizer1 = AutoTokenizer.from_pretrained(\"monsoon-nlp/hindi-tpu-electra\")\n",
    "tokenizer2 = AutoTokenizer.from_pretrained(\"monsoon-nlp/hindi-bert\")\n",
    "device = torch.device(\"cuda\" if torch.cuda.is_available() else \"cpu\")\n",
    "\n",
    "df = pd.read_csv(\"../data/constraint_hindi_train.csv\")\n",
    "taglist = list()\n",
    "for i in range(len(df)):\n",
    "    tags = df.iloc[i][\"Labels Set\"].split(\",\")\n",
    "    for tag in tags:\n",
    "        if(tag not in taglist):\n",
    "            taglist.append(tag)"
   ]
  },
  {
   "cell_type": "code",
   "execution_count": 3,
   "metadata": {},
   "outputs": [],
   "source": [
    "class Dataset(torch.utils.data.Dataset):\n",
    "    def __init__(self, datapath):\n",
    "        \n",
    "        self.df = pd.read_csv(datapath)\n",
    "    def __len__(self):\n",
    "        return(len(self.df))\n",
    "    def __getitem__(self,idx):\n",
    "        sentence = self.df.iloc[idx][\"Post\"]\n",
    "        encoding = tokenizer1.encode_plus(sentence,add_special_tokens=True,max_length=64,truncation=True,pad_to_max_length=True,return_attention_mask=True)\n",
    "        electra_input_ids = encoding['input_ids']\n",
    "        electra_attention_mask = encoding['attention_mask']\n",
    "        labels = np.zeros(5)\n",
    "        tags = self.df.iloc[idx][\"Labels Set\"].split(\",\")\n",
    "        for tag in tags:\n",
    "            labels[taglist.index(tag)] = 1\n",
    "        \n",
    "        sentence = self.df.iloc[idx][\"Post\"]\n",
    "        encoding = tokenizer2.encode_plus(sentence,add_special_tokens=True,max_length=64,truncation=True,pad_to_max_length=True,return_attention_mask=True)\n",
    "        bert_input_ids = encoding['input_ids']\n",
    "        bert_attention_mask = encoding['attention_mask']\n",
    "        \n",
    "        return np.array(electra_input_ids), np.array(electra_attention_mask),np.array(bert_input_ids), np.array(bert_attention_mask), labels\n",
    "trainset = Dataset(\"../data/constraint_hindi_train.csv\")\n",
    "valset = Dataset(\"../data/constraint_hindi_valid.csv\")\n",
    "\n",
    "trainloader = torch.utils.data.DataLoader(trainset, batch_size = 64, shuffle=True)\n",
    "valloader = torch.utils.data.DataLoader(valset, batch_size = 1, shuffle=False)"
   ]
  },
  {
   "cell_type": "code",
   "execution_count": 4,
   "metadata": {},
   "outputs": [],
   "source": [
    "class electra_model(nn.Module): ## CNN + Linear (single linear)\n",
    "    def __init__(self):\n",
    "        super(electra_model, self).__init__()\n",
    "        # self.bert = AutoModel.from_pretrained(\"monsoon-nlp/hindi-bert\", output_hidden_states=True)\n",
    "        self.bert = AutoModel.from_pretrained(\"monsoon-nlp/hindi-tpu-electra\", output_hidden_states=True)\n",
    "        self.convs = nn.ModuleList([nn.Conv2d(in_channels=1, out_channels=1, kernel_size=(3, 768), padding=(1,0)) for i in range(12)])\n",
    "        self.pools = nn.ModuleList([nn.MaxPool1d(kernel_size=64) for i in range(12)])\n",
    "        self.linear = nn.Linear(in_features=12, out_features=5)\n",
    "    def forward(self,sent,mask):\n",
    "        seq = self.bert(sent,mask)[1] # len 13\n",
    "        hidden_states = seq[1:] # len 12, each (64, 64, bert_hidden_size)\n",
    "        cnn_out = torch.empty(0).to(\"cuda:1\")\n",
    "        for i, state in enumerate(hidden_states):\n",
    "            state = torch.unsqueeze(state, dim=1) # (64, 1, 64, bert_hidden_size)\n",
    "            out = self.convs[i](state) # (64, 1, 64, 1)\n",
    "            out = out.squeeze(dim=3)\n",
    "            out = self.pools[i](out) # (64, 1, 1)\n",
    "            out = out.squeeze(dim=2) # (64, 1)\n",
    "            cnn_out = torch.cat([cnn_out, out], dim=1)\n",
    "\n",
    "        seq = self.linear(cnn_out)\n",
    "        return seq\n",
    "class bert_model(nn.Module): ## Linear on bert (single linear) only CLS token\n",
    "    def __init__(self):\n",
    "        super(bert_model, self).__init__()\n",
    "        self.bert = AutoModel.from_pretrained(\"monsoon-nlp/hindi-bert\")\n",
    "        self.linear = nn.Linear(in_features=256, out_features=5)\n",
    "    def forward(self,sent,mask):\n",
    "        seq = self.bert(sent,mask)[0]\n",
    "#         seq = torch.mean(seq, dim = 1).squeeze()\n",
    "        seq = torch.transpose(seq,0,1)[0]\n",
    "        seq = self.linear(seq)\n",
    "        return seq\n",
    "    \n",
    "class ensemble(nn.Module): ## Linear on bert (single linear) only CLS token\n",
    "    def __init__(self):\n",
    "        super(ensemble, self).__init__()\n",
    "        self.bert = bert_model()\n",
    "        self.electra = electra_model()\n",
    "        self.linear = nn.Linear(in_features=10,out_features=5,bias=True)\n",
    "        self.sigmoid = nn.Sigmoid()\n",
    "    def forward(self,electra_sent,electra_mask,bert_sent,bert_mask):\n",
    "        bert_op = self.bert(bert_sent.to(\"cuda:0\"),bert_mask.to(\"cuda:0\"))\n",
    "        electra_op = self.electra(electra_sent.to(\"cuda:1\"),electra_mask.to(\"cuda:1\"))\n",
    "        op = 0.5*bert_op.to(\"cuda:1\") + 0.5*electra_op\n",
    "        op = self.sigmoid(op)\n",
    "        return op"
   ]
  },
  {
   "cell_type": "code",
   "execution_count": 5,
   "metadata": {},
   "outputs": [],
   "source": [
    "# for batch in trainloader:\n",
    "#     break\n",
    "# model = ensemble()\n",
    "# model.to(device)\n",
    "# batch[0],batch[1],batch[2],batch[3],batch[4]=batch[0].to(device),batch[1].to(device),batch[2].to(device),batch[3].to(device),batch[4].to(device)"
   ]
  },
  {
   "cell_type": "code",
   "execution_count": 6,
   "metadata": {},
   "outputs": [],
   "source": [
    "model = ensemble()\n",
    "model.bert = model.bert.to(\"cuda:0\")\n",
    "model.electra = model.electra.to(\"cuda:1\")"
   ]
  },
  {
   "cell_type": "code",
   "execution_count": 7,
   "metadata": {},
   "outputs": [
    {
     "data": {
      "application/vnd.jupyter.widget-view+json": {
       "model_id": "0c55ddeb46784ffa98a5f2a280ca019b",
       "version_major": 2,
       "version_minor": 0
      },
      "text/plain": [
       "HBox(children=(HTML(value=''), FloatProgress(value=0.0, max=25.0), HTML(value='')))"
      ]
     },
     "metadata": {},
     "output_type": "display_data"
    },
    {
     "name": "stderr",
     "output_type": "stream",
     "text": [
      "/data/sagnik/anaconda3/lib/python3.7/site-packages/transformers/tokenization_utils_base.py:2022: FutureWarning: The `pad_to_max_length` argument is deprecated and will be removed in a future version, use `padding=True` or `padding='longest'` to pad to the longest sequence in the batch, or use `padding='max_length'` to pad to a max length. In this case, you can give a specific length with `max_length` (e.g. `max_length=45`) or leave max_length to None to pad to the maximal input size of the model (e.g. 512 for Bert).\n",
      "  FutureWarning,\n"
     ]
    },
    {
     "name": "stdout",
     "output_type": "stream",
     "text": [
      "val loss at epoch 0:0.4295816467810794\n"
     ]
    },
    {
     "name": "stderr",
     "output_type": "stream",
     "text": [
      "/data/sagnik/anaconda3/lib/python3.7/site-packages/sklearn/metrics/classification.py:1143: UndefinedMetricWarning: F-score is ill-defined and being set to 0.0 in labels with no predicted samples.\n",
      "  'precision', 'predicted', average, warn_for)\n"
     ]
    },
    {
     "name": "stdout",
     "output_type": "stream",
     "text": [
      "val loss at epoch 1:0.375504814244522\n",
      "val loss at epoch 2:0.3356429696744526\n",
      "val loss at epoch 3:0.30946765169409435\n",
      "val loss at epoch 4:0.29446831965214965\n",
      "val loss at epoch 5:0.28390639987756966\n",
      "val loss at epoch 6:0.27358798375847015\n",
      "val loss at epoch 7:0.26562477448213334\n",
      "val loss at epoch 8:0.26218325118781166\n",
      "val loss at epoch 9:0.2574071741459659\n",
      "val loss at epoch 10:0.25106937630370757\n",
      "val loss at epoch 11:0.2484915204421972\n",
      "val loss at epoch 12:0.24276532160644174\n",
      "val loss at epoch 13:0.23934591753217685\n",
      "val loss at epoch 14:0.233703313525146\n",
      "val loss at epoch 15:0.2307493599446355\n",
      "val loss at epoch 16:0.23143283969351766\n",
      "val loss at epoch 17:0.22738309913175928\n",
      "val loss at epoch 18:0.22675428951375012\n",
      "val loss at epoch 19:0.22827028890763915\n",
      "val loss at epoch 20:0.2227656919372517\n",
      "val loss at epoch 21:0.22354802346826244\n",
      "val loss at epoch 22:0.22320261383406204\n",
      "val loss at epoch 23:0.2220269656733239\n",
      "val loss at epoch 24:0.2220402074255435\n",
      "\n"
     ]
    }
   ],
   "source": [
    "train_losses = list()\n",
    "val_losses=list()\n",
    "val_accuracy=list()\n",
    "loss = nn.BCELoss(reduction=\"mean\")\n",
    "optimizer = torch.optim.Adam(model.parameters(), lr = 1e-5)\n",
    "for epoch in tqdm(range(25)):\n",
    "    model.train()\n",
    "    total_loss=0\n",
    "    num_batches = 0\n",
    "    ## main model training loop\n",
    "    for batch in (trainloader):\n",
    "        optimizer.zero_grad()\n",
    "        logits = model(batch[0],batch[1],batch[2],batch[3])\n",
    "        labels = batch[4].to(\"cuda:1\")\n",
    "        loss_value = loss(logits.float(),labels.float())\n",
    "        loss_value.backward()\n",
    "        optimizer.step()\n",
    "        total_loss+=loss_value.item()\n",
    "        num_batches +=1\n",
    "    train_losses.append(total_loss/num_batches)\n",
    "#     if(epoch%1==0):\n",
    "#         print(\"train loss at epoch \" + str(epoch) + \":\" + str(total_loss/num_batches))\n",
    "\n",
    "    model.eval()\n",
    "    total_loss=0\n",
    "    num_batches = 0\n",
    "    ## validation loss and accuracy calculation\n",
    "    for batch in (valloader):\n",
    "        logits = model(batch[0],batch[1],batch[2],batch[3])\n",
    "        labels = batch[4].to(\"cuda:1\")\n",
    "\n",
    "        loss_value = loss(logits.float(),labels.float())\n",
    "        total_loss+=loss_value.item()\n",
    "        num_batches +=1\n",
    "    val_losses.append(total_loss/num_batches)\n",
    "    if(epoch%1==0):\n",
    "        print(\"val loss at epoch \" + str(epoch) + \":\" + str(total_loss/num_batches))\n",
    "        \n",
    "    logits_list = np.zeros((1,5))\n",
    "    labels_list = np.zeros((1,5))\n",
    "    for batch in (valloader):\n",
    "        logits = model(batch[0],batch[1],batch[2],batch[3]).to(\"cpu\").detach().numpy() > 0.5\n",
    "        labels = batch[4].to(\"cpu\")\n",
    "    \n",
    "        logits_list = np.concatenate((logits_list,logits),0)\n",
    "        labels_list = np.concatenate((labels_list,labels),0)\n",
    "    val_accuracy.append(f1_score(labels_list[1:], logits_list[1:], average='weighted'))\n",
    "#     if(epoch%10==0):\n",
    "#         print(\"val accuracy after epoch \"+str(epoch)+ \" : \" + str(f1_score(labels_list[1:], logits_list[1:], average='weighted')))    "
   ]
  },
  {
   "cell_type": "code",
   "execution_count": 9,
   "metadata": {},
   "outputs": [
    {
     "data": {
      "text/plain": [
       "[<matplotlib.lines.Line2D at 0x7fbbfcf5a6d8>]"
      ]
     },
     "execution_count": 9,
     "metadata": {},
     "output_type": "execute_result"
    },
    {
     "data": {
      "image/png": "[encoded data removed]",
      "text/plain": [
       "<Figure size 432x288 with 1 Axes>"
      ]
     },
     "metadata": {
      "needs_background": "light"
     },
     "output_type": "display_data"
    }
   ],
   "source": [
    "import matplotlib.pyplot as plt\n",
    "\n",
    "plt.plot(val_losses)"
   ]
  },
  {
   "cell_type": "code",
   "execution_count": 10,
   "metadata": {},
   "outputs": [
    {
     "name": "stderr",
     "output_type": "stream",
     "text": [
      "/data/sagnik/anaconda3/lib/python3.7/site-packages/transformers/tokenization_utils_base.py:2022: FutureWarning: The `pad_to_max_length` argument is deprecated and will be removed in a future version, use `padding=True` or `padding='longest'` to pad to the longest sequence in the batch, or use `padding='max_length'` to pad to a max length. In this case, you can give a specific length with `max_length` (e.g. `max_length=45`) or leave max_length to None to pad to the maximal input size of the model (e.g. 512 for Bert).\n",
      "  FutureWarning,\n"
     ]
    },
    {
     "name": "stdout",
     "output_type": "stream",
     "text": [
      "0.86483720167801\n",
      "0.744596312778131\n",
      "0.7835380390803829\n",
      "0.7718007980719844\n",
      "0.6711864406779661\n",
      "0.705388619241328\n"
     ]
    }
   ],
   "source": [
    "from sklearn.metrics import f1_score,precision_score,recall_score\n",
    "\n",
    "logits_list = np.zeros((1,5))\n",
    "labels_list = np.zeros((1,5))\n",
    "model.eval()\n",
    "for batch in (trainloader):\n",
    "    logits = model(batch[0],batch[1],batch[2],batch[3]).to(\"cpu\").detach().numpy() > 0.5\n",
    "    labels = batch[4].numpy()\n",
    "    \n",
    "    logits_list = np.concatenate((logits_list,logits),0)\n",
    "    labels_list = np.concatenate((labels_list,labels),0)\n",
    "    \n",
    "    torch.cuda.empty_cache()\n",
    "for i in range(logits_list.shape[0]):\n",
    "    for j in range(logits_list.shape[1]):\n",
    "        if(logits_list[i][2]==1 and j!=2):\n",
    "            logits_list[i][j]=0\n",
    "print(precision_score(labels_list[1:], logits_list[1:], average='weighted'))\n",
    "print(recall_score(labels_list[1:], logits_list[1:], average='weighted'))\n",
    "print(f1_score(labels_list[1:], logits_list[1:], average='weighted'))\n",
    "\n",
    "\n",
    "logits_list = np.zeros((1,5))\n",
    "labels_list = np.zeros((1,5))\n",
    "model.eval()\n",
    "for batch in (valloader):\n",
    "    logits = model(batch[0],batch[1],batch[2],batch[3]).to(\"cpu\").detach().numpy() > 0.5\n",
    "    labels = batch[4].numpy()\n",
    "    \n",
    "    logits_list = np.concatenate((logits_list,logits),0)\n",
    "    labels_list = np.concatenate((labels_list,labels),0)\n",
    "    \n",
    "    torch.cuda.empty_cache()\n",
    "for i in range(logits_list.shape[0]):\n",
    "    for j in range(logits_list.shape[1]):\n",
    "        if(logits_list[i][2]==1 and j!=2):\n",
    "            logits_list[i][j]=0\n",
    "print(precision_score(labels_list[1:], logits_list[1:], average='weighted'))\n",
    "print(recall_score(labels_list[1:], logits_list[1:], average='weighted'))\n",
    "print(f1_score(labels_list[1:], logits_list[1:], average='weighted'))"
   ]
  },
  {
   "cell_type": "code",
   "execution_count": 11,
   "metadata": {},
   "outputs": [
    {
     "name": "stdout",
     "output_type": "stream",
     "text": [
      "[[675.  27.]\n",
      " [ 81.  29.]]\n",
      "[[677.  32.]\n",
      " [ 58.  45.]]\n",
      "[[369.   8.]\n",
      " [ 27. 408.]]\n",
      "[[732.   3.]\n",
      " [ 76.   1.]]\n",
      "[[615.  37.]\n",
      " [ 49. 111.]]\n"
     ]
    }
   ],
   "source": [
    "def print_conf(y_true,y_pred,i):\n",
    "    y_true = labels_list[:,i]\n",
    "    y_pred = logits_list[:,i]\n",
    "    matrix_hate = np.zeros((2,2))\n",
    "    for i in range(len(y_true)):\n",
    "        true = int(y_true[i])\n",
    "        pred = int(y_pred[i])\n",
    "        matrix_hate[true][pred]+=1\n",
    "    print(matrix_hate)\n",
    "##coordinate 0 hate\n",
    "for i in range(5):\n",
    "    y_true = labels_list[:,i]\n",
    "    y_pred = logits_list[:,i]\n",
    "    print_conf(y_true,y_pred,i)"
   ]
  },
  {
   "cell_type": "code",
   "execution_count": 1,
   "metadata": {},
   "outputs": [
    {
     "name": "stdout",
     "output_type": "stream",
     "text": [
      "Fri Dec  4 19:45:58 2020       \n",
      "+-----------------------------------------------------------------------------+\n",
      "| NVIDIA-SMI 450.36.06    Driver Version: 450.36.06    CUDA Version: 11.0     |\n",
      "|-------------------------------+----------------------+----------------------+\n",
      "| GPU  Name        Persistence-M| Bus-Id        Disp.A | Volatile Uncorr. ECC |\n",
      "| Fan  Temp  Perf  Pwr:Usage/Cap|         Memory-Usage | GPU-Util  Compute M. |\n",
      "|                               |                      |               MIG M. |\n",
      "|===============================+======================+======================|\n",
      "|   0  GeForce GTX 108...  On   | 00000000:05:00.0 Off |                  N/A |\n",
      "| 31%   52C    P0    79W / 250W |     18MiB / 11177MiB |    100%      Default |\n",
      "|                               |                      |                  N/A |\n",
      "+-------------------------------+----------------------+----------------------+\n",
      "|   1  GeForce GTX 108...  On   | 00000000:06:00.0 Off |                  N/A |\n",
      "| 27%   42C    P8     9W / 250W |      2MiB / 11178MiB |      0%      Default |\n",
      "|                               |                      |                  N/A |\n",
      "+-------------------------------+----------------------+----------------------+\n",
      "|   2  GeForce GTX 108...  On   | 00000000:09:00.0 Off |                  N/A |\n",
      "| 24%   43C    P8    11W / 250W |      2MiB / 11178MiB |      0%      Default |\n",
      "|                               |                      |                  N/A |\n",
      "+-------------------------------+----------------------+----------------------+\n",
      "|   3  GeForce GTX 108...  On   | 00000000:0A:00.0 Off |                  N/A |\n",
      "| 23%   35C    P8    10W / 250W |      2MiB / 11178MiB |      0%      Default |\n",
      "|                               |                      |                  N/A |\n",
      "+-------------------------------+----------------------+----------------------+\n",
      "                                                                               \n",
      "+-----------------------------------------------------------------------------+\n",
      "| Processes:                                                                  |\n",
      "|  GPU   GI   CI        PID   Type   Process name                  GPU Memory |\n",
      "|        ID   ID                                                   Usage      |\n",
      "|=============================================================================|\n",
      "|    0   N/A  N/A      1633      G   /usr/lib/xorg/Xorg                  9MiB |\n",
      "|    0   N/A  N/A      1729      G   /usr/bin/gnome-shell                6MiB |\n",
      "+-----------------------------------------------------------------------------+\n"
     ]
    }
   ],
   "source": [
    "!nvidia-smi"
   ]
  },
  {
   "cell_type": "code",
   "execution_count": null,
   "metadata": {},
   "outputs": [],
   "source": [
    "!kill -9 947"
   ]
  },
  {
   "cell_type": "code",
   "execution_count": null,
   "metadata": {},
   "outputs": [],
   "source": []
  }
 ],
 "metadata": {
  "kernelspec": {
   "display_name": "Python 3",
   "language": "python",
   "name": "python3"
  },
  "language_info": {
   "codemirror_mode": {
    "name": "ipython",
    "version": 3
   },
   "file_extension": ".py",
   "mimetype": "text/x-python",
   "name": "python",
   "nbconvert_exporter": "python",
   "pygments_lexer": "ipython3",
   "version": "3.7.3"
  }
 },
 "nbformat": 4,
 "nbformat_minor": 2
}
