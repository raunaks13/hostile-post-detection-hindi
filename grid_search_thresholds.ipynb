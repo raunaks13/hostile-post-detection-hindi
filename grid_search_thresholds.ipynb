{
  "nbformat": 4,
  "nbformat_minor": 0,
  "metadata": {
    "colab": {
      "name": "grid search bert.ipynb",
      "provenance": [],
      "collapsed_sections": []
    },
    "kernelspec": {
      "name": "python3",
      "display_name": "Python 3"
    }
  },
  "cells": [
    {
      "cell_type": "markdown",
      "metadata": {
        "id": "alhYLKGJFIUL"
      },
      "source": [
        "# Importing all required resources"
      ]
    },
    {
      "cell_type": "code",
      "metadata": {
        "id": "6ro1p6KZwzq6",
        "colab": {
          "base_uri": "https://localhost:8080/"
        },
        "outputId": "8990ae42-9cc7-405a-edd6-0598b227271b"
      },
      "source": [
        "from google.colab import drive\n",
        "drive.mount(\"/content/gdrive\")"
      ],
      "execution_count": null,
      "outputs": [
        {
          "output_type": "stream",
          "text": [
            "Mounted at /content/gdrive\n"
          ],
          "name": "stdout"
        }
      ]
    },
    {
      "cell_type": "code",
      "metadata": {
        "id": "hjF7BHd6w1TU",
        "colab": {
          "base_uri": "https://localhost:8080/"
        },
        "outputId": "906c7f3d-0b2f-4e9c-c495-a49177ed0457"
      },
      "source": [
        "!pip install transformers\n",
        "!pip install tqdm"
      ],
      "execution_count": null,
      "outputs": [
        {
          "output_type": "stream",
          "text": [
            "Collecting transformers\n",
            "\u001b[?25l  Downloading https://files.pythonhosted.org/packages/99/84/7bc03215279f603125d844bf81c3fb3f2d50fe8e511546eb4897e4be2067/transformers-4.0.0-py3-none-any.whl (1.4MB)\n",
            "\r\u001b[K     |▎                               | 10kB 22.1MB/s eta 0:00:01\r\u001b[K     |▌                               | 20kB 29.7MB/s eta 0:00:01\r\u001b[K     |▊                               | 30kB 27.1MB/s eta 0:00:01\r\u001b[K     |█                               | 40kB 20.9MB/s eta 0:00:01\r\u001b[K     |█▏                              | 51kB 15.0MB/s eta 0:00:01\r\u001b[K     |█▌                              | 61kB 16.2MB/s eta 0:00:01\r\u001b[K     |█▊                              | 71kB 15.3MB/s eta 0:00:01\r\u001b[K     |██                              | 81kB 15.3MB/s eta 0:00:01\r\u001b[K     |██▏                             | 92kB 15.2MB/s eta 0:00:01\r\u001b[K     |██▍                             | 102kB 15.6MB/s eta 0:00:01\r\u001b[K     |██▋                             | 112kB 15.6MB/s eta 0:00:01\r\u001b[K     |███                             | 122kB 15.6MB/s eta 0:00:01\r\u001b[K     |███▏                            | 133kB 15.6MB/s eta 0:00:01\r\u001b[K     |███▍                            | 143kB 15.6MB/s eta 0:00:01\r\u001b[K     |███▋                            | 153kB 15.6MB/s eta 0:00:01\r\u001b[K     |███▉                            | 163kB 15.6MB/s eta 0:00:01\r\u001b[K     |████▏                           | 174kB 15.6MB/s eta 0:00:01\r\u001b[K     |████▍                           | 184kB 15.6MB/s eta 0:00:01\r\u001b[K     |████▋                           | 194kB 15.6MB/s eta 0:00:01\r\u001b[K     |████▉                           | 204kB 15.6MB/s eta 0:00:01\r\u001b[K     |█████                           | 215kB 15.6MB/s eta 0:00:01\r\u001b[K     |█████▎                          | 225kB 15.6MB/s eta 0:00:01\r\u001b[K     |█████▋                          | 235kB 15.6MB/s eta 0:00:01\r\u001b[K     |█████▉                          | 245kB 15.6MB/s eta 0:00:01\r\u001b[K     |██████                          | 256kB 15.6MB/s eta 0:00:01\r\u001b[K     |██████▎                         | 266kB 15.6MB/s eta 0:00:01\r\u001b[K     |██████▌                         | 276kB 15.6MB/s eta 0:00:01\r\u001b[K     |██████▉                         | 286kB 15.6MB/s eta 0:00:01\r\u001b[K     |███████                         | 296kB 15.6MB/s eta 0:00:01\r\u001b[K     |███████▎                        | 307kB 15.6MB/s eta 0:00:01\r\u001b[K     |███████▌                        | 317kB 15.6MB/s eta 0:00:01\r\u001b[K     |███████▊                        | 327kB 15.6MB/s eta 0:00:01\r\u001b[K     |████████                        | 337kB 15.6MB/s eta 0:00:01\r\u001b[K     |████████▎                       | 348kB 15.6MB/s eta 0:00:01\r\u001b[K     |████████▌                       | 358kB 15.6MB/s eta 0:00:01\r\u001b[K     |████████▊                       | 368kB 15.6MB/s eta 0:00:01\r\u001b[K     |█████████                       | 378kB 15.6MB/s eta 0:00:01\r\u001b[K     |█████████▏                      | 389kB 15.6MB/s eta 0:00:01\r\u001b[K     |█████████▌                      | 399kB 15.6MB/s eta 0:00:01\r\u001b[K     |█████████▊                      | 409kB 15.6MB/s eta 0:00:01\r\u001b[K     |██████████                      | 419kB 15.6MB/s eta 0:00:01\r\u001b[K     |██████████▏                     | 430kB 15.6MB/s eta 0:00:01\r\u001b[K     |██████████▍                     | 440kB 15.6MB/s eta 0:00:01\r\u001b[K     |██████████▋                     | 450kB 15.6MB/s eta 0:00:01\r\u001b[K     |███████████                     | 460kB 15.6MB/s eta 0:00:01\r\u001b[K     |███████████▏                    | 471kB 15.6MB/s eta 0:00:01\r\u001b[K     |███████████▍                    | 481kB 15.6MB/s eta 0:00:01\r\u001b[K     |███████████▋                    | 491kB 15.6MB/s eta 0:00:01\r\u001b[K     |███████████▉                    | 501kB 15.6MB/s eta 0:00:01\r\u001b[K     |████████████▏                   | 512kB 15.6MB/s eta 0:00:01\r\u001b[K     |████████████▍                   | 522kB 15.6MB/s eta 0:00:01\r\u001b[K     |████████████▋                   | 532kB 15.6MB/s eta 0:00:01\r\u001b[K     |████████████▉                   | 542kB 15.6MB/s eta 0:00:01\r\u001b[K     |█████████████                   | 552kB 15.6MB/s eta 0:00:01\r\u001b[K     |█████████████▎                  | 563kB 15.6MB/s eta 0:00:01\r\u001b[K     |█████████████▋                  | 573kB 15.6MB/s eta 0:00:01\r\u001b[K     |█████████████▉                  | 583kB 15.6MB/s eta 0:00:01\r\u001b[K     |██████████████                  | 593kB 15.6MB/s eta 0:00:01\r\u001b[K     |██████████████▎                 | 604kB 15.6MB/s eta 0:00:01\r\u001b[K     |██████████████▌                 | 614kB 15.6MB/s eta 0:00:01\r\u001b[K     |██████████████▉                 | 624kB 15.6MB/s eta 0:00:01\r\u001b[K     |███████████████                 | 634kB 15.6MB/s eta 0:00:01\r\u001b[K     |███████████████▎                | 645kB 15.6MB/s eta 0:00:01\r\u001b[K     |███████████████▌                | 655kB 15.6MB/s eta 0:00:01\r\u001b[K     |███████████████▊                | 665kB 15.6MB/s eta 0:00:01\r\u001b[K     |████████████████                | 675kB 15.6MB/s eta 0:00:01\r\u001b[K     |████████████████▎               | 686kB 15.6MB/s eta 0:00:01\r\u001b[K     |████████████████▌               | 696kB 15.6MB/s eta 0:00:01\r\u001b[K     |████████████████▊               | 706kB 15.6MB/s eta 0:00:01\r\u001b[K     |█████████████████               | 716kB 15.6MB/s eta 0:00:01\r\u001b[K     |█████████████████▏              | 727kB 15.6MB/s eta 0:00:01\r\u001b[K     |█████████████████▌              | 737kB 15.6MB/s eta 0:00:01\r\u001b[K     |█████████████████▊              | 747kB 15.6MB/s eta 0:00:01\r\u001b[K     |██████████████████              | 757kB 15.6MB/s eta 0:00:01\r\u001b[K     |██████████████████▏             | 768kB 15.6MB/s eta 0:00:01\r\u001b[K     |██████████████████▍             | 778kB 15.6MB/s eta 0:00:01\r\u001b[K     |██████████████████▋             | 788kB 15.6MB/s eta 0:00:01\r\u001b[K     |███████████████████             | 798kB 15.6MB/s eta 0:00:01\r\u001b[K     |███████████████████▏            | 808kB 15.6MB/s eta 0:00:01\r\u001b[K     |███████████████████▍            | 819kB 15.6MB/s eta 0:00:01\r\u001b[K     |███████████████████▋            | 829kB 15.6MB/s eta 0:00:01\r\u001b[K     |███████████████████▉            | 839kB 15.6MB/s eta 0:00:01\r\u001b[K     |████████████████████▏           | 849kB 15.6MB/s eta 0:00:01\r\u001b[K     |████████████████████▍           | 860kB 15.6MB/s eta 0:00:01\r\u001b[K     |████████████████████▋           | 870kB 15.6MB/s eta 0:00:01\r\u001b[K     |████████████████████▉           | 880kB 15.6MB/s eta 0:00:01\r\u001b[K     |█████████████████████           | 890kB 15.6MB/s eta 0:00:01\r\u001b[K     |█████████████████████▎          | 901kB 15.6MB/s eta 0:00:01\r\u001b[K     |█████████████████████▋          | 911kB 15.6MB/s eta 0:00:01\r\u001b[K     |█████████████████████▉          | 921kB 15.6MB/s eta 0:00:01\r\u001b[K     |██████████████████████          | 931kB 15.6MB/s eta 0:00:01\r\u001b[K     |██████████████████████▎         | 942kB 15.6MB/s eta 0:00:01\r\u001b[K     |██████████████████████▌         | 952kB 15.6MB/s eta 0:00:01\r\u001b[K     |██████████████████████▉         | 962kB 15.6MB/s eta 0:00:01\r\u001b[K     |███████████████████████         | 972kB 15.6MB/s eta 0:00:01\r\u001b[K     |███████████████████████▎        | 983kB 15.6MB/s eta 0:00:01\r\u001b[K     |███████████████████████▌        | 993kB 15.6MB/s eta 0:00:01\r\u001b[K     |███████████████████████▊        | 1.0MB 15.6MB/s eta 0:00:01\r\u001b[K     |████████████████████████        | 1.0MB 15.6MB/s eta 0:00:01\r\u001b[K     |████████████████████████▎       | 1.0MB 15.6MB/s eta 0:00:01\r\u001b[K     |████████████████████████▌       | 1.0MB 15.6MB/s eta 0:00:01\r\u001b[K     |████████████████████████▊       | 1.0MB 15.6MB/s eta 0:00:01\r\u001b[K     |█████████████████████████       | 1.1MB 15.6MB/s eta 0:00:01\r\u001b[K     |█████████████████████████▏      | 1.1MB 15.6MB/s eta 0:00:01\r\u001b[K     |█████████████████████████▌      | 1.1MB 15.6MB/s eta 0:00:01\r\u001b[K     |█████████████████████████▊      | 1.1MB 15.6MB/s eta 0:00:01\r\u001b[K     |██████████████████████████      | 1.1MB 15.6MB/s eta 0:00:01\r\u001b[K     |██████████████████████████▏     | 1.1MB 15.6MB/s eta 0:00:01\r\u001b[K     |██████████████████████████▍     | 1.1MB 15.6MB/s eta 0:00:01\r\u001b[K     |██████████████████████████▋     | 1.1MB 15.6MB/s eta 0:00:01\r\u001b[K     |███████████████████████████     | 1.1MB 15.6MB/s eta 0:00:01\r\u001b[K     |███████████████████████████▏    | 1.1MB 15.6MB/s eta 0:00:01\r\u001b[K     |███████████████████████████▍    | 1.2MB 15.6MB/s eta 0:00:01\r\u001b[K     |███████████████████████████▋    | 1.2MB 15.6MB/s eta 0:00:01\r\u001b[K     |███████████████████████████▉    | 1.2MB 15.6MB/s eta 0:00:01\r\u001b[K     |████████████████████████████▏   | 1.2MB 15.6MB/s eta 0:00:01\r\u001b[K     |████████████████████████████▍   | 1.2MB 15.6MB/s eta 0:00:01\r\u001b[K     |████████████████████████████▋   | 1.2MB 15.6MB/s eta 0:00:01\r\u001b[K     |████████████████████████████▉   | 1.2MB 15.6MB/s eta 0:00:01\r\u001b[K     |█████████████████████████████   | 1.2MB 15.6MB/s eta 0:00:01\r\u001b[K     |█████████████████████████████▎  | 1.2MB 15.6MB/s eta 0:00:01\r\u001b[K     |█████████████████████████████▋  | 1.2MB 15.6MB/s eta 0:00:01\r\u001b[K     |█████████████████████████████▉  | 1.3MB 15.6MB/s eta 0:00:01\r\u001b[K     |██████████████████████████████  | 1.3MB 15.6MB/s eta 0:00:01\r\u001b[K     |██████████████████████████████▎ | 1.3MB 15.6MB/s eta 0:00:01\r\u001b[K     |██████████████████████████████▌ | 1.3MB 15.6MB/s eta 0:00:01\r\u001b[K     |██████████████████████████████▉ | 1.3MB 15.6MB/s eta 0:00:01\r\u001b[K     |███████████████████████████████ | 1.3MB 15.6MB/s eta 0:00:01\r\u001b[K     |███████████████████████████████▎| 1.3MB 15.6MB/s eta 0:00:01\r\u001b[K     |███████████████████████████████▌| 1.3MB 15.6MB/s eta 0:00:01\r\u001b[K     |███████████████████████████████▊| 1.3MB 15.6MB/s eta 0:00:01\r\u001b[K     |████████████████████████████████| 1.4MB 15.6MB/s eta 0:00:01\r\u001b[K     |████████████████████████████████| 1.4MB 15.6MB/s \n",
            "\u001b[?25hRequirement already satisfied: filelock in /usr/local/lib/python3.6/dist-packages (from transformers) (3.0.12)\n",
            "Requirement already satisfied: tqdm>=4.27 in /usr/local/lib/python3.6/dist-packages (from transformers) (4.41.1)\n",
            "Collecting tokenizers==0.9.4\n",
            "\u001b[?25l  Downloading https://files.pythonhosted.org/packages/0f/1c/e789a8b12e28be5bc1ce2156cf87cb522b379be9cadc7ad8091a4cc107c4/tokenizers-0.9.4-cp36-cp36m-manylinux2010_x86_64.whl (2.9MB)\n",
            "\u001b[K     |████████████████████████████████| 2.9MB 35.6MB/s \n",
            "\u001b[?25hRequirement already satisfied: packaging in /usr/local/lib/python3.6/dist-packages (from transformers) (20.4)\n",
            "Requirement already satisfied: dataclasses; python_version < \"3.7\" in /usr/local/lib/python3.6/dist-packages (from transformers) (0.8)\n",
            "Requirement already satisfied: requests in /usr/local/lib/python3.6/dist-packages (from transformers) (2.23.0)\n",
            "Collecting sacremoses\n",
            "\u001b[?25l  Downloading https://files.pythonhosted.org/packages/7d/34/09d19aff26edcc8eb2a01bed8e98f13a1537005d31e95233fd48216eed10/sacremoses-0.0.43.tar.gz (883kB)\n",
            "\u001b[K     |████████████████████████████████| 890kB 49.9MB/s \n",
            "\u001b[?25hRequirement already satisfied: regex!=2019.12.17 in /usr/local/lib/python3.6/dist-packages (from transformers) (2019.12.20)\n",
            "Requirement already satisfied: numpy in /usr/local/lib/python3.6/dist-packages (from transformers) (1.18.5)\n",
            "Requirement already satisfied: six in /usr/local/lib/python3.6/dist-packages (from packaging->transformers) (1.15.0)\n",
            "Requirement already satisfied: pyparsing>=2.0.2 in /usr/local/lib/python3.6/dist-packages (from packaging->transformers) (2.4.7)\n",
            "Requirement already satisfied: chardet<4,>=3.0.2 in /usr/local/lib/python3.6/dist-packages (from requests->transformers) (3.0.4)\n",
            "Requirement already satisfied: certifi>=2017.4.17 in /usr/local/lib/python3.6/dist-packages (from requests->transformers) (2020.11.8)\n",
            "Requirement already satisfied: idna<3,>=2.5 in /usr/local/lib/python3.6/dist-packages (from requests->transformers) (2.10)\n",
            "Requirement already satisfied: urllib3!=1.25.0,!=1.25.1,<1.26,>=1.21.1 in /usr/local/lib/python3.6/dist-packages (from requests->transformers) (1.24.3)\n",
            "Requirement already satisfied: click in /usr/local/lib/python3.6/dist-packages (from sacremoses->transformers) (7.1.2)\n",
            "Requirement already satisfied: joblib in /usr/local/lib/python3.6/dist-packages (from sacremoses->transformers) (0.17.0)\n",
            "Building wheels for collected packages: sacremoses\n",
            "  Building wheel for sacremoses (setup.py) ... \u001b[?25l\u001b[?25hdone\n",
            "  Created wheel for sacremoses: filename=sacremoses-0.0.43-cp36-none-any.whl size=893257 sha256=9e1f5e1705a18e1bb3c10e2e2d1c29636d6fa68c189b31e1525e0cd203ce2cac\n",
            "  Stored in directory: /root/.cache/pip/wheels/29/3c/fd/7ce5c3f0666dab31a50123635e6fb5e19ceb42ce38d4e58f45\n",
            "Successfully built sacremoses\n",
            "Installing collected packages: tokenizers, sacremoses, transformers\n",
            "Successfully installed sacremoses-0.0.43 tokenizers-0.9.4 transformers-4.0.0\n",
            "Requirement already satisfied: tqdm in /usr/local/lib/python3.6/dist-packages (4.41.1)\n"
          ],
          "name": "stdout"
        }
      ]
    },
    {
      "cell_type": "code",
      "metadata": {
        "id": "lfCI7OU9N3cz",
        "colab": {
          "base_uri": "https://localhost:8080/",
          "height": 361
        },
        "outputId": "79112846-11eb-4d60-e290-629ea9d6a0e5"
      },
      "source": [
        "import pandas as pd\n",
        "import numpy as np\n",
        "import torch\n",
        "import torch.nn as nn\n",
        "import seaborn as sn\n",
        "import matplotlib.pyplot as plt\n",
        "from transformers import AutoTokenizer, AutoModelForSequenceClassification\n",
        "from transformers import AutoTokenizer, AutoModel\n",
        "from tqdm.notebook import tqdm\n",
        "from sklearn.metrics import f1_score,precision_score,recall_score\n",
        "from tqdm import tqdm\n",
        "import random\n",
        "\n",
        "torch.backends.cudnn.deterministic = True\n",
        "torch.manual_seed(123)\n",
        "torch.cuda.manual_seed_all(123)\n",
        "np.random.seed(123)\n",
        "random.seed(123)\n",
        "torch.cuda.manual_seed_all(123)\n",
        "\n",
        "#Using HINDI BERT tokenizer\n",
        "tokenizer = AutoTokenizer.from_pretrained(\"monsoon-nlp/hindi-bert\")\n",
        "device = torch.device(\"cuda\" if torch.cuda.is_available() else \"cpu\")\n",
        "\n",
        "#Input files\n",
        "df = pd.read_csv(\"/content/gdrive/My Drive/CS685/constraint_hindi_train.csv\")\n",
        "#Making Taglist\n",
        "taglist = list()\n",
        "for i in range(len(df)):\n",
        "    tags = df.iloc[i][\"Labels Set\"].split(\",\")\n",
        "    for tag in tags:\n",
        "        if(tag not in taglist):\n",
        "            taglist.append(tag)"
      ],
      "execution_count": null,
      "outputs": [
        {
          "output_type": "error",
          "ename": "ModuleNotFoundError",
          "evalue": "ignored",
          "traceback": [
            "\u001b[0;31m---------------------------------------------------------------------------\u001b[0m",
            "\u001b[0;31mModuleNotFoundError\u001b[0m                       Traceback (most recent call last)",
            "\u001b[0;32m<ipython-input-2-be840daf41a1>\u001b[0m in \u001b[0;36m<module>\u001b[0;34m()\u001b[0m\n\u001b[1;32m      5\u001b[0m \u001b[0;32mimport\u001b[0m \u001b[0mseaborn\u001b[0m \u001b[0;32mas\u001b[0m \u001b[0msn\u001b[0m\u001b[0;34m\u001b[0m\u001b[0;34m\u001b[0m\u001b[0m\n\u001b[1;32m      6\u001b[0m \u001b[0;32mimport\u001b[0m \u001b[0mmatplotlib\u001b[0m\u001b[0;34m.\u001b[0m\u001b[0mpyplot\u001b[0m \u001b[0;32mas\u001b[0m \u001b[0mplt\u001b[0m\u001b[0;34m\u001b[0m\u001b[0;34m\u001b[0m\u001b[0m\n\u001b[0;32m----> 7\u001b[0;31m \u001b[0;32mfrom\u001b[0m \u001b[0mtransformers\u001b[0m \u001b[0;32mimport\u001b[0m \u001b[0mAutoTokenizer\u001b[0m\u001b[0;34m,\u001b[0m \u001b[0mAutoModelForSequenceClassification\u001b[0m\u001b[0;34m\u001b[0m\u001b[0;34m\u001b[0m\u001b[0m\n\u001b[0m\u001b[1;32m      8\u001b[0m \u001b[0;32mfrom\u001b[0m \u001b[0mtransformers\u001b[0m \u001b[0;32mimport\u001b[0m \u001b[0mAutoTokenizer\u001b[0m\u001b[0;34m,\u001b[0m \u001b[0mAutoModel\u001b[0m\u001b[0;34m\u001b[0m\u001b[0;34m\u001b[0m\u001b[0m\n\u001b[1;32m      9\u001b[0m \u001b[0;32mfrom\u001b[0m \u001b[0mtqdm\u001b[0m\u001b[0;34m.\u001b[0m\u001b[0mnotebook\u001b[0m \u001b[0;32mimport\u001b[0m \u001b[0mtqdm\u001b[0m\u001b[0;34m\u001b[0m\u001b[0;34m\u001b[0m\u001b[0m\n",
            "\u001b[0;31mModuleNotFoundError\u001b[0m: No module named 'transformers'",
            "",
            "\u001b[0;31m---------------------------------------------------------------------------\u001b[0;32m\nNOTE: If your import is failing due to a missing package, you can\nmanually install dependencies using either !pip or !apt.\n\nTo view examples of installing some common dependencies, click the\n\"Open Examples\" button below.\n\u001b[0;31m---------------------------------------------------------------------------\u001b[0m\n"
          ]
        }
      ]
    },
    {
      "cell_type": "code",
      "metadata": {
        "id": "xN7Lq_o1N4WF"
      },
      "source": [
        "#Creating the class for dataset\n",
        "class Dataset(torch.utils.data.Dataset):\n",
        "    def __init__(self, datapath):\n",
        "        self.df = pd.read_csv(datapath)\n",
        "    def __len__(self):\n",
        "        return(len(self.df))\n",
        "    def __getitem__(self,idx):\n",
        "        sentence = self.df.iloc[idx][\"Post\"]\n",
        "        encoding = tokenizer.encode_plus(sentence,add_special_tokens=True,max_length=64,truncation=True,pad_to_max_length=True,return_attention_mask=True)\n",
        "        input_ids = encoding['input_ids']\n",
        "        attention_mask = encoding['attention_mask']\n",
        "        labels = np.zeros(5)\n",
        "        tags = self.df.iloc[idx][\"Labels Set\"].split(\",\")\n",
        "        for tag in tags:\n",
        "            labels[taglist.index(tag)] = 1\n",
        "        return np.array(input_ids), np.array(attention_mask), labels\n",
        "trainset = Dataset(\"/content/gdrive/My Drive/CS685/constraint_hindi_train.csv\")\n",
        "valset = Dataset(\"/content/gdrive/My Drive/CS685/constraint_hindi_valid.csv\")\n",
        "\n",
        "trainloader = torch.utils.data.DataLoader(trainset, batch_size = 64, shuffle=True)\n",
        "valloader = torch.utils.data.DataLoader(valset, batch_size = 64, shuffle=True)"
      ],
      "execution_count": null,
      "outputs": []
    },
    {
      "cell_type": "markdown",
      "metadata": {
        "id": "GhHlD2rsGufp"
      },
      "source": [
        "#Model"
      ]
    },
    {
      "cell_type": "code",
      "metadata": {
        "id": "MnNPZwvba-pe"
      },
      "source": [
        "class bert_model(nn.Module): ## CNN + Linear (single linear)\n",
        "    def __init__(self):\n",
        "        super(bert_model, self).__init__()\n",
        "        self.bert = AutoModel.from_pretrained(\"monsoon-nlp/hindi-bert\", output_hidden_states=True)\n",
        "        # self.bert = AutoModel.from_pretrained(\"monsoon-nlp/hindi-tpu-electra\", output_hidden_states=True)\n",
        "        self.convs = nn.ModuleList([nn.Conv2d(in_channels=1, out_channels=1, kernel_size=(3, 256), padding=(1,0)) for i in range(12)])\n",
        "        self.pools = nn.ModuleList([nn.MaxPool1d(kernel_size=64) for i in range(12)])\n",
        "        self.linear = nn.Linear(in_features=12, out_features=5)\n",
        "        self.sigmoid = nn.Sigmoid()\n",
        "    def forward(self,sent,mask):\n",
        "        seq = self.bert(sent,mask)[1] # len 13\n",
        "        hidden_states = seq[1:] # len 12, each (64, 64, bert_hidden_size)\n",
        "        cnn_out = torch.empty(0).to(device)\n",
        "        for i, state in enumerate(hidden_states):\n",
        "            state = torch.unsqueeze(state, dim=1) # (64, 1, 64, bert_hidden_size)\n",
        "            out = self.convs[i](state) # (64, 1, 64, 1)\n",
        "            out = out.squeeze(dim=3)\n",
        "            out = self.pools[i](out) # (64, 1, 1)\n",
        "            out = out.squeeze(dim=2) # (64, 1)\n",
        "            cnn_out = torch.cat([cnn_out, out], dim=1)\n",
        "\n",
        "        seq = self.linear(cnn_out)\n",
        "        seq = self.sigmoid(seq)\n",
        "        return seq\n",
        "# class bert_model(nn.Module): ## Linear on bert (single linear)\n",
        "#     def __init__(self):\n",
        "#         super(bert_model, self).__init__()\n",
        "#         self.bert = AutoModel.from_pretrained(\"monsoon-nlp/hindi-bert\")\n",
        "#         self.linear = nn.Linear(in_features=256, out_features=5)\n",
        "#         self.sigmoid = nn.Sigmoid()\n",
        "#     def forward(self,sent,mask):\n",
        "#         seq = self.bert(sent,mask)[0]\n",
        "#         seq = torch.mean(seq, dim = 1).squeeze()\n",
        "#         seq = self.linear(seq)\n",
        "#         seq = self.sigmoid(seq)\n",
        "#         return seq\n",
        "# class bert_model(nn.Module): #(lstm + single linear layer)\n",
        "#     def __init__(self):\n",
        "#         super(bert_model, self).__init__()\n",
        "#         self.bert = AutoModel.from_pretrained(\"monsoon-nlp/hindi-bert\")\n",
        "#         self.lstm=nn.LSTM(input_size=256,hidden_size=300,batch_first=True, bidirectional=True)\n",
        "#         self.linear = nn.Linear(in_features=600, out_features=5)\n",
        "#         self.sigmoid = nn.Sigmoid()\n",
        "#     def forward(self,sent,mask):\n",
        "#         self.lstm.flatten_parameters\n",
        "#         seq = self.bert(sent,mask)[0]\n",
        "#         seq,(hn,cn) = self.lstm(seq)\n",
        "#         seq = torch.mean(seq, dim = 1).squeeze()\n",
        "#         seq = self.linear(seq)\n",
        "#         seq = self.sigmoid(seq)\n",
        "#         return seq\n",
        "model = bert_model()\n",
        "model.to(device)"
      ],
      "execution_count": null,
      "outputs": []
    },
    {
      "cell_type": "markdown",
      "metadata": {
        "id": "DAMyO_rnFmi8"
      },
      "source": [
        "#Training"
      ]
    },
    {
      "cell_type": "code",
      "metadata": {
        "id": "f5MqZxgxgy1j"
      },
      "source": [
        "train_losses = list()\n",
        "val_losses=list()\n",
        "val_accuracy=list()\n",
        "loss = nn.BCELoss(reduction=\"mean\")\n",
        "optimizer = torch.optim.Adam(model.parameters(), lr = 1e-5)\n",
        "for epoch in (range(60)):\n",
        "    model.train()\n",
        "    total_loss=0\n",
        "    num_batches = 0\n",
        "    ## main model training loop\n",
        "    for batch in (trainloader):\n",
        "        optimizer.zero_grad()\n",
        "        batch[0],batch[1],batch[2] = batch[0].to(\"cuda\"), batch[1].to(\"cuda\"), batch[2].to(\"cuda\")\n",
        "        logits = model(batch[0],batch[1])\n",
        "        labels = batch[2]\n",
        "\n",
        "        loss_value = loss(logits.float(),labels.float())\n",
        "        loss_value.backward()\n",
        "        optimizer.step()\n",
        "\n",
        "        total_loss+=loss_value.item()\n",
        "        num_batches +=1\n",
        "        torch.cuda.empty_cache()\n",
        "    train_losses.append(total_loss/num_batches)\n",
        "    if(epoch%1==0):\n",
        "        print(\"train loss at epoch \" + str(epoch) + \":\" + str(total_loss/num_batches))\n",
        "\n",
        "    model.eval()\n",
        "    total_loss=0\n",
        "    num_batches = 0\n",
        "    ## validation loss and F1 score calculation\n",
        "    for batch in (valloader):\n",
        "        batch[0],batch[1], batch[2] = batch[0].to(\"cuda\"), batch[1].to(\"cuda\"), batch[2].to(\"cuda\")\n",
        "        logits = model(batch[0],batch[1])\n",
        "        labels = batch[2]\n",
        "\n",
        "        loss_value = loss(logits.float(),labels.float())\n",
        "        total_loss+=loss_value.item()\n",
        "        num_batches +=1\n",
        "        torch.cuda.empty_cache()\n",
        "    val_losses.append(total_loss/num_batches)\n",
        "    if(epoch%1==0):\n",
        "        print(\"val loss at epoch \" + str(epoch) + \":\" + str(total_loss/num_batches))\n",
        "        \n",
        "    logits_list = np.zeros((1,5))\n",
        "    labels_list = np.zeros((1,5))\n",
        "    for batch in (valloader):\n",
        "        batch[0],batch[1], batch[2] = batch[0].to(\"cuda\"), batch[1].to(\"cuda\"), batch[2].to(\"cuda\")\n",
        "        logits = model(batch[0],batch[1]).to(\"cpu\").detach().numpy() > 0.5\n",
        "        labels = batch[2].to(\"cpu\")\n",
        "    \n",
        "        logits_list = np.concatenate((logits_list,logits),0)\n",
        "        labels_list = np.concatenate((labels_list,labels),0)\n",
        "    \n",
        "        torch.cuda.empty_cache()\n",
        "    val_accuracy.append(f1_score(labels_list[1:], logits_list[1:], average='weighted'))\n",
        "    print(\"val accuracy after epoch \"+str(epoch)+ \" : \" + str(f1_score(labels_list[1:], logits_list[1:], average='weighted')))"
      ],
      "execution_count": null,
      "outputs": []
    },
    {
      "cell_type": "code",
      "metadata": {
        "id": "Yoi3LN0cn1JC",
        "colab": {
          "base_uri": "https://localhost:8080/",
          "height": 281
        },
        "outputId": "7abb5a7d-b455-45b8-c86a-64ca79f69e48"
      },
      "source": [
        "plt.plot(train_losses)\n",
        "plt.plot(val_losses)\n",
        "#Plots for loss"
      ],
      "execution_count": null,
      "outputs": [
        {
          "output_type": "execute_result",
          "data": {
            "text/plain": [
              "[<matplotlib.lines.Line2D at 0x7f3c37ea77f0>]"
            ]
          },
          "metadata": {
            "tags": []
          },
          "execution_count": 7
        },
        {
          "output_type": "display_data",
          "data": {
            "image/png": "[encoded data removed]",
            "text/plain": [
              "<Figure size 432x288 with 1 Axes>"
            ]
          },
          "metadata": {
            "tags": [],
            "needs_background": "light"
          }
        }
      ]
    },
    {
      "cell_type": "code",
      "metadata": {
        "id": "s-TTsbSlN2_j",
        "colab": {
          "base_uri": "https://localhost:8080/",
          "height": 281
        },
        "outputId": "580c2895-dfb5-4597-94e8-4aa96409564f"
      },
      "source": [
        "plt.plot(val_accuracy)\n",
        "#Plot for F1 score"
      ],
      "execution_count": null,
      "outputs": [
        {
          "output_type": "execute_result",
          "data": {
            "text/plain": [
              "[<matplotlib.lines.Line2D at 0x7f3c367301d0>]"
            ]
          },
          "metadata": {
            "tags": []
          },
          "execution_count": 8
        },
        {
          "output_type": "display_data",
          "data": {
            "image/png": "[encoded data removed]",
            "text/plain": [
              "<Figure size 432x288 with 1 Axes>"
            ]
          },
          "metadata": {
            "tags": [],
            "needs_background": "light"
          }
        }
      ]
    },
    {
      "cell_type": "markdown",
      "metadata": {
        "id": "PXlIyqHLGfSd"
      },
      "source": [
        "# Grid Search"
      ]
    },
    {
      "cell_type": "code",
      "metadata": {
        "id": "TcDqcGj4M3RT"
      },
      "source": [
        "#Grid search for Fine F1 adjustment\n",
        "thresholds = [0.1,0.2,0.3,0.4,0.5,0.6,0.7,0.8]\n",
        "rocarray = []\n",
        "for threshold0 in tqdm(thresholds, desc =\"T0\"):\n",
        "    for threshold1 in tqdm(thresholds, desc =\"T1\"):\n",
        "        for threshold2 in tqdm(thresholds, desc=\"T2\")\n",
        "            for threshold3 in tqdm(thresholds, desc =\"T3\"):\n",
        "                for threshold4 in thresholds:\n",
        "                    logits_list = np.zeros((1,5))\n",
        "                    labels_list = np.zeros((1,5))\n",
        "                    for batch in (valloader):\n",
        "                        batch[0],batch[1] = batch[0].to(\"cuda\"),batch[1].to(\"cuda\")\n",
        "                        logits = model(batch[0],batch[1]).to(\"cpu\").detach().numpy() > np.array([threshold0,threshold1,threshold2,threshold3,threshold4])\n",
        "                        labels = batch[2].numpy()\n",
        "                        \n",
        "                        logits_list = np.concatenate((logits_list,logits),0)\n",
        "                        labels_list = np.concatenate((labels_list,labels),0)\n",
        "                        \n",
        "                        torch.cuda.empty_cache()\n",
        "                    for i in range(logits_list.shape[0]):\n",
        "                        for j in range(logits_list.shape[1]):\n",
        "                            if(logits_list[i][2]==1 and j!=2):\n",
        "                                logits_list[i][j]=0\n",
        "                    \n",
        "                    rocarray.append([threshold0,threshold1,threshold2,threshold3,threshold4,f1_score(labels_list[1:], logits_list[1:], average='weighted'),precision_score(labels_list[1:], logits_list[1:], average='weighted'),recall_score(labels_list[1:], logits_list[1:], average='weighted')])\n",
        "\n",
        "import pandas as pd\n",
        "import csv\n",
        "f1df = pd.DataFrame(rocarray)\n",
        "f1df.to_csv(\"/content/gdrive/My Drive/CS685/rocbertcnn.csv\",index=False,header=['Threshold0','Threshold1','Threshold2','Threshold3','Threshold4','Fine_F1_Score','Precision','Recall'])"
      ],
      "execution_count": null,
      "outputs": []
    },
    {
      "cell_type": "code",
      "metadata": {
        "id": "ByLBVtAxMvvV",
        "colab": {
          "base_uri": "https://localhost:8080/"
        },
        "outputId": "d4b0cd39-eb95-459a-a938-2fdf5d969114"
      },
      "source": [
        "f1df.iloc[int(f1df[[5]].idxmax())]\n",
        "#Finding Maximum F1 score thresholds"
      ],
      "execution_count": null,
      "outputs": [
        {
          "output_type": "execute_result",
          "data": {
            "text/plain": [
              "0    0.100000\n",
              "1    0.100000\n",
              "2    0.400000\n",
              "3    0.100000\n",
              "4    0.500000\n",
              "5    0.601184\n",
              "Name: 4, dtype: float64"
            ]
          },
          "metadata": {
            "tags": []
          },
          "execution_count": 18
        }
      ]
    },
    {
      "cell_type": "markdown",
      "metadata": {
        "id": "zt-Q4ZGqGys-"
      },
      "source": [
        "#Plot confusion matrices"
      ]
    },
    {
      "cell_type": "code",
      "metadata": {
        "id": "O7AGHlkznhP8",
        "colab": {
          "base_uri": "https://localhost:8080/",
          "height": 332
        },
        "outputId": "77f6f0a1-8060-487e-913c-73a1dfd1d54a"
      },
      "source": [
        "confusion_matrix = np.array([[602,50], [74,86]])\n",
        "df_cm=pd.DataFrame(confusion_matrix,columns=['Non Fake', 'Fake'])\n",
        "# plt.figure(figsize=(10,7))\n",
        "sn.set(font_scale=1.5) # for label size\n",
        "sn.heatmap(df_cm, annot=True,fmt=\"d\", annot_kws={\"size\": 20}) # font size\n",
        "plt.yticks(np.arange(2)+0.5,('Non Fake','Fake'), va=\"center\") #Centering the y labels and naming them\n",
        "# plt.title(\"Confusion matrix for Hostile classification\")"
      ],
      "execution_count": null,
      "outputs": [
        {
          "output_type": "execute_result",
          "data": {
            "text/plain": [
              "([<matplotlib.axis.YTick at 0x7f2228ad22e8>,\n",
              "  <matplotlib.axis.YTick at 0x7f2228b45be0>],\n",
              " [Text(0, 0.5, 'Non Fake'), Text(0, 1.5, 'Fake')])"
            ]
          },
          "metadata": {
            "tags": []
          },
          "execution_count": 3
        },
        {
          "output_type": "display_data",
          "data": {
            "image/png": "[encoded data removed]",
            "text/plain": [
              "<Figure size 432x288 with 2 Axes>"
            ]
          },
          "metadata": {
            "tags": []
          }
        }
      ]
    }
  ]
}